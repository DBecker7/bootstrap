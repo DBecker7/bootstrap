{
  "cells": [
    {
      "cell_type": "markdown",
      "id": "fe4daeb8",
      "metadata": {
        "id": "fe4daeb8"
      },
      "source": [
        "# Samples from a Population\n",
        "\n",
        "Creating actual samples from the population is time consuming, so I pre-sampled and uploaded them to GitHub.\n",
        "\n",
        "The following code:\n",
        "\n",
        "1. Loads a sample\n",
        "2. Fits a logistic growth curve\n",
        "3. Reports the parameters of the curve\n",
        "\n",
        "An optional code block at the end displays the sample."
      ]
    },
    {
      "cell_type": "code",
      "execution_count": null,
      "id": "4edc8902",
      "metadata": {
        "id": "4edc8902"
      },
      "outputs": [],
      "source": [
        "import numpy as np\n",
        "from scipy.optimize import curve_fit\n",
        "import matplotlib.pyplot as plt\n",
        "import pandas as pd\n",
        "\n",
        "def logistic_growth(x, r, k):\n",
        "    y = 1/(1 + np.exp((k - x) * r))\n",
        "    return y\n",
        "\n",
        "r_tracker = np.array([])\n",
        "k_tracker = np.array([])\n",
        "n_tracker = np.array([])\n",
        "\n",
        "%matplotlib inline"
      ]
    },
    {
      "cell_type": "code",
      "execution_count": null,
      "id": "48e3cb73",
      "metadata": {
        "id": "48e3cb73"
      },
      "outputs": [],
      "source": [
        "# Re-run this cell as many times as you like!\n",
        "df_number = np.random.randint(0, 1000, 1)\n",
        "df_filename = \"https://raw.githubusercontent.com/DBecker7/bootstrap/main/samples/sample_\" + str(int(df_number)).zfill(4) + \".csv\"\n",
        "df = pd.read_csv(df_filename) \n",
        "\n",
        "popt, pcov = curve_fit(logistic_growth, df.x.to_numpy(), df.y.to_numpy(), p0 = [0.3, 15])\n",
        "\n",
        "n_tracker = np.append(n_tracker, df_number)\n",
        "r_tracker = np.append(r_tracker, popt[0])\n",
        "k_tracker = np.append(k_tracker, popt[1])\n",
        "\n",
        "x_seq = np.linspace(0, 30, 31)\n",
        "y_hat = logistic_growth(x_seq, popt[0], popt[1])\n",
        "\n",
        "figure, axis = plt.subplots(2, 2, dpi = 100)\n",
        "figure.tight_layout(h_pad=2)\n",
        "\n",
        "axis[0, 0].plot(df.x, df.y, \"o\", x_seq, y_hat, \"-k\")\n",
        "axis[0, 0].set_title(\"Sample Data\\nr = \" + str(np.round(popt[0], 3)) + \" and k = \" + str(np.round(popt[1], 2)))\n",
        "\n",
        "axis[0, 1].plot(r_tracker, k_tracker, \"o\")\n",
        "axis[0, 1].set_title(\"Scatterplot of r versus k\")\n",
        "\n",
        "axis[1, 0].hist(r_tracker)\n",
        "axis[1, 0].set_title(\"Histogram of r\")\n",
        "axis[1, 1].hist(k_tracker)\n",
        "axis[1, 1].set_title(\"Histogram of k\")\n",
        "\n",
        "plt.show()\n",
        "\n",
        "print(pd.DataFrame({\"df\": n_tracker, \"r\": r_tracker, \"k\": k_tracker}))"
      ]
    },
    {
      "cell_type": "code",
      "source": [
        ""
      ],
      "metadata": {
        "id": "hqFMVNlzcUI7"
      },
      "id": "hqFMVNlzcUI7",
      "execution_count": null,
      "outputs": []
    },
    {
      "cell_type": "code",
      "execution_count": null,
      "id": "6c6a94b3",
      "metadata": {
        "id": "6c6a94b3"
      },
      "outputs": [],
      "source": [
        "df"
      ]
    }
  ],
  "metadata": {
    "kernelspec": {
      "display_name": "Python 3 (ipykernel)",
      "language": "python",
      "name": "python3"
    },
    "language_info": {
      "codemirror_mode": {
        "name": "ipython",
        "version": 3
      },
      "file_extension": ".py",
      "mimetype": "text/x-python",
      "name": "python",
      "nbconvert_exporter": "python",
      "pygments_lexer": "ipython3",
      "version": "3.10.2"
    },
    "colab": {
      "name": "sample_params.ipynb",
      "provenance": [],
      "collapsed_sections": []
    }
  },
  "nbformat": 4,
  "nbformat_minor": 5
}
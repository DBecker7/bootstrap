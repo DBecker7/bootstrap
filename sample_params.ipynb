{
 "cells": [
  {
   "cell_type": "markdown",
   "id": "fe4daeb8",
   "metadata": {},
   "source": [
    "# Samples from a Population\n",
    "\n",
    "Creating actual samples from the population is time consuming, so I pre-sampled and uploaded them to GitHub.\n",
    "\n",
    "The following code:\n",
    "\n",
    "1. Loads a sample\n",
    "2. Fits a logistic growth curve\n",
    "3. Reports the parameters of the curve\n",
    "\n",
    "An optional code block at the end displays the sample."
   ]
  },
  {
   "cell_type": "code",
   "execution_count": null,
   "id": "4edc8902",
   "metadata": {},
   "outputs": [],
   "source": [
    "import numpy as np\n",
    "from scipy.optimize import curve_fit\n",
    "import matplotlib.pyplot as plt\n",
    "import pandas as pd\n",
    "\n",
    "def logistic_growth(x, r, k):\n",
    "    y = 1/(1 + np.exp((k - x) * r))\n",
    "    return y"
   ]
  },
  {
   "cell_type": "code",
   "execution_count": null,
   "id": "48e3cb73",
   "metadata": {},
   "outputs": [],
   "source": [
    "df_number = np.random.randint(0, 10, 1)\n",
    "df_filename = \"https://raw.githubusercontent.com/DBecker7/bootstrap/main/samples/sample_\" + str(int(df_number)).zfill(4) + \".csv\"\n",
    "df = pd.read_csv(df_filename)\n",
    "\n",
    "popt, pcov = curve_fit(logistic_growth, df.x.to_numpy(), df.y.to_numpy())\n",
    "\n",
    "x_seq = np.linspace(0, 30, 31)\n",
    "y_hat = logistic_growth(x_seq, popt[0], popt[1])\n",
    "plt.plot(df.x, df.y, \"o\", x_seq, y_hat, \"-k\")\n",
    "plt.title(\"r = \" + str(np.round(popt[0], 3)) + \" and k = \" + str(np.round(popt[1], 2)))\n",
    "plt.show()"
   ]
  },
  {
   "cell_type": "code",
   "execution_count": null,
   "id": "6c6a94b3",
   "metadata": {},
   "outputs": [],
   "source": [
    "df"
   ]
  }
 ],
 "metadata": {
  "kernelspec": {
   "display_name": "Python 3 (ipykernel)",
   "language": "python",
   "name": "python3"
  },
  "language_info": {
   "codemirror_mode": {
    "name": "ipython",
    "version": 3
   },
   "file_extension": ".py",
   "mimetype": "text/x-python",
   "name": "python",
   "nbconvert_exporter": "python",
   "pygments_lexer": "ipython3",
   "version": "3.10.2"
  }
 },
 "nbformat": 4,
 "nbformat_minor": 5
}
